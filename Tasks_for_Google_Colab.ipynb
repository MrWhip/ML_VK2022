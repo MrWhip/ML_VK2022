{
 "cells": [
  {
   "cell_type": "code",
   "execution_count": 29,
   "id": "03bed378",
   "metadata": {},
   "outputs": [
    {
     "name": "stdout",
     "output_type": "stream",
     "text": [
      "1584\n"
     ]
    }
   ],
   "source": [
    "!git clone https://github.com/MrWhip/ML_VK2022"
   ]
  },
  {
   "cell_type": "code",
   "execution_count": 16,
   "id": "5b9195d2",
   "metadata": {},
   "outputs": [
    {
     "name": "stdout",
     "output_type": "stream",
     "text": [
      "1584\n",
      "692.8921135646688\n",
      "492.801261829653\n"
     ]
    }
   ],
   "source": [
    "from PIL import Image\n",
    "from io import BytesIO\n",
    "import numpy as np\n",
    "import requests\n",
    "from matplotlib import pyplot as plt\n",
    "import glob\n",
    "import os\n",
    "\n",
    "widthMed = 0\n",
    "heightMed = 0\n",
    "\n",
    "for i in range (len(glob.glob('/content/ML_VK2022/images/*'))): \n",
    "    im = Image.open(f'/content/ML_VK2022/images/{i + 1}.jpg')\n",
    "    width = im.size[0]\n",
    "    height = im.size[1]\n",
    "    \n",
    "    widthMed += width\n",
    "    heightMed += height\n",
    "\n",
    "widthMed = widthMed / (len(glob.glob('/content/ML_VK2022/images/*')) + 1)\n",
    "heightMed = heightMed / (len(glob.glob('/content/ML_VK2022/images/*')) + 1)\n",
    "print (len(glob.glob('/content/ML_VK2022/images/*')))\n",
    "print (widthMed)\n",
    "print (heightMed)"
   ]
  },
  {
   "cell_type": "code",
   "execution_count": 142,
   "id": "1558322e",
   "metadata": {
    "scrolled": true
   },
   "outputs": [
    {
     "name": "stdout",
     "output_type": "stream",
     "text": [
      "902.0\n",
      "828.0\n"
     ]
    },
    {
     "data": {
      "image/png": "[encoded data removed]",
      "text/plain": [
       "<PIL.Image.Image image mode=L size=505x466 at 0x21E94C86280>"
      ]
     },
     "execution_count": 142,
     "metadata": {},
     "output_type": "execute_result"
    }
   ],
   "source": [
    "def to_im(array):\n",
    "    return Image.fromarray((np.clip(array, 0, 1) * 255.0).astype(np.uint8))\n",
    "\n",
    "def to_array(im):\n",
    "    return np.array(im, dtype=np.float32) / 255.0\n",
    "\n",
    "im = Image.open('/content/ML_VK2022/images/5.jpg')\n",
    "width = im.size[0]\n",
    "height = im.size[1]\n",
    "\n",
    "if (width > height + 100):\n",
    "    im = im.rotate(90, expand=True)\n",
    "\n",
    "width = im.size[0]\n",
    "height = im.size[1]\n",
    "\n",
    "array = to_array(im)\n",
    "\n",
    "bot = to_im(array[height-40:height, width//2-75:width//2+75])\n",
    "top = to_im(array[0:40, width//2-75:width//2+75])\n",
    "\n",
    "pixelsW_bot = 0\n",
    "\n",
    "for i in bot.getdata():\n",
    "    if (i != 0):\n",
    "        pixelsW_bot += 255\n",
    "print (pixelsW_bot/255)\n",
    "\n",
    "pixelsW_top = 0\n",
    "\n",
    "for i in top.getdata():\n",
    "    if (i != 0):\n",
    "        pixelsW_top += 255\n",
    "print (pixelsW_top/255)\n",
    "\n",
    "if (pixelsW_top < pixelsW_bot):\n",
    "    im = im.rotate(180, expand=True)\n",
    "\n",
    "im.save(f'/content/ML_VK2022/images/{i+1}.jpg')"
   ]
  },
  {
   "cell_type": "code",
   "execution_count": null,
   "id": "ab03f55e",
   "metadata": {},
   "outputs": [],
   "source": [
    "for i in range (len(glob.glob('/content/ML_VK2022/test_images/aspen/*'))):\n",
    "  im = Image.open(f'/content/ML_VK2022/test_images/aspen/{i+1}.jpg')\n",
    "  \n",
    "  array = to_array(im)\n",
    "  array.shape\n",
    "\n",
    "  hue = array[:, :, 0]\n",
    "\n",
    "  alpha = (hue < 0.95)\n",
    "\n",
    "  to_im(alpha)\n",
    "\n",
    "  im = to_im(alpha)\n",
    "  im = im.resize((28, 28), Image.ANTIALIAS)\n",
    "  im.save(f'/content/ML_VK2022/test_images_corrected/aspen/{i+1}.jpg')\n",
    "for i in range (len(glob.glob('/content/ML_VK2022/test_images/maple/*'))):\n",
    "  im = Image.open(f'/content/ML_VK2022/test_images/maple/{i+1}.jpg')\n",
    "  \n",
    "  array = to_array(im)\n",
    "  array.shape\n",
    "\n",
    "  hue = array[:, :, 0]\n",
    "\n",
    "  alpha = (hue < 0.95)\n",
    "\n",
    "  to_im(alpha)\n",
    "\n",
    "  im = to_im(alpha)\n",
    "  im = im.resize((28, 28), Image.ANTIALIAS)\n",
    "  im.save(f'/content/ML_VK2022/test_images_corrected/maple/{i+1}.jpg')\n",
    "for i in range (len(glob.glob('/content/ML_VK2022/test_images/oak/*'))):\n",
    "  im = Image.open(f'/content/ML_VK2022/test_images/oak/{i+1}.jpg')\n",
    "  \n",
    "  array = to_array(im)\n",
    "  array.shape\n",
    "\n",
    "  hue = array[:, :, 0]\n",
    "\n",
    "  alpha = (hue < 0.95)\n",
    "\n",
    "  to_im(alpha)\n",
    "\n",
    "  im = to_im(alpha)\n",
    "  im = im.resize((28, 28), Image.ANTIALIAS)\n",
    "  im.save(f'/content/ML_VK2022/test_images_corrected/oak/{i+1}.jpg')\n",
    "for i in range (len(glob.glob('/content/ML_VK2022/test_images/poplar/*'))):\n",
    "  im = Image.open(f'/content/ML_VK2022/test_images/poplar/{i+1}.jpg')\n",
    "  \n",
    "  array = to_array(im)\n",
    "  array.shape\n",
    "\n",
    "  hue = array[:, :, 0]\n",
    "\n",
    "  alpha = (hue < 0.9)\n",
    "\n",
    "  to_im(alpha)\n",
    "\n",
    "  im = to_im(alpha)\n",
    "  im = im.resize((28, 28), Image.ANTIALIAS)\n",
    "  \n",
    "  im.save(f'/content/ML_VK2022/test_images_corrected/poplar/{i+1}.jpg')\n",
    "for i in range (len(glob.glob('/content/ML_VK2022/test_images/willow/*'))):\n",
    "  im = Image.open(f'/content/ML_VK2022/test_images/willow/{i+1}.jpg')\n",
    "  \n",
    "  array = to_array(im)\n",
    "  array.shape\n",
    "\n",
    "  hue = array[:, :, 0]\n",
    "\n",
    "  alpha = (hue < 0.95)\n",
    "\n",
    "  to_im(alpha)\n",
    "\n",
    "  im = to_im(alpha)\n",
    "  im = im.resize((28, 28), Image.ANTIALIAS)\n",
    "  im.save(f'/content/ML_VK2022/test_images_corrected/willow/{i+1}.jpg')"
   ]
  }
 ],
 "metadata": {
  "kernelspec": {
   "display_name": "Python 3 (ipykernel)",
   "language": "python",
   "name": "python3"
  },
  "language_info": {
   "codemirror_mode": {
    "name": "ipython",
    "version": 3
   },
   "file_extension": ".py",
   "mimetype": "text/x-python",
   "name": "python",
   "nbconvert_exporter": "python",
   "pygments_lexer": "ipython3",
   "version": "3.9.7"
  }
 },
 "nbformat": 4,
 "nbformat_minor": 5
}
